{
 "cells": [
  {
   "cell_type": "code",
   "execution_count": 15,
   "metadata": {},
   "outputs": [],
   "source": [
    "%matplotlib inline\n",
    "import matplotlib.pyplot as plt\n",
    "import numpy as np\n",
    "from os import listdir\n",
    "from os.path import isfile, isdir, join"
   ]
  },
  {
   "cell_type": "code",
   "execution_count": 68,
   "metadata": {},
   "outputs": [],
   "source": [
    "x_data = []\n",
    "y_data = []"
   ]
  },
  {
   "cell_type": "code",
   "execution_count": 69,
   "metadata": {},
   "outputs": [],
   "source": [
    "mypath = \"D:/py/MJ/data/\" #這裡要改成實際放data的位置，請參考readme\n",
    "files_list = listdir(mypath)\n",
    "\n",
    "f_counter = 0\n",
    "sp_counter = 0\n",
    "sp_counter2 = 0"
   ]
  },
  {
   "cell_type": "code",
   "execution_count": 70,
   "metadata": {
    "scrolled": true
   },
   "outputs": [
    {
     "name": "stdout",
     "output_type": "stream",
     "text": [
      "已完成..  0.0 %\n",
      "已完成..  10.448979591836734 %\n",
      "已完成..  20.897959183673468 %\n",
      "已完成..  31.346938775510203 %\n",
      "已完成..  41.795918367346935 %\n",
      "已完成..  52.244897959183675 %\n",
      "已完成..  62.69387755102041 %\n",
      "已完成..  73.14285714285714 %\n",
      "已完成..  83.59183673469387 %\n",
      "已完成..  94.04081632653062 %\n",
      "done!\n"
     ]
    }
   ],
   "source": [
    "for f_name in files_list:\n",
    "    f = open(mypath + f_name,'r')\n",
    "    mjlog_str = f.read()\n",
    "    f.close()\n",
    "    mjlog_str = mjlog_str[mjlog_str.find('<UN'):] #hash後有可能剛好出現UN\n",
    "    \n",
    "    players = [0]*4\n",
    "    players[0] = mjlog_str[mjlog_str.find('n0') + 4 : mjlog_str.find('n1') - 2]\n",
    "    players[1] = mjlog_str[mjlog_str.find('n1') + 4 : mjlog_str.find('n2') - 2]\n",
    "    players[2] = mjlog_str[mjlog_str.find('n2') + 4 : mjlog_str.find('n3') - 2]\n",
    "    players[3] = mjlog_str[mjlog_str.find('n3') + 4 : mjlog_str.find('dan') - 2]\n",
    "    \n",
    "    if '%41%53%41%50%49%4E' not in players: #'%41%53%41%50%49%4E' == asapin\n",
    "        print('get Asapin id error')\n",
    "    else:\n",
    "        for i in range(4):\n",
    "            if players[i] == '%41%53%41%50%49%4E':\n",
    "                master_player = i  \n",
    "\n",
    "    counter = mjlog_str.count('INIT')\n",
    "\n",
    "    mjlog_str_part = mjlog_str.split('INIT')\n",
    "    mjlog_str_part = mjlog_str_part[1:]\n",
    "\n",
    "    seed = [0,0,0]\n",
    "    point = [250]*4\n",
    "\n",
    "    for i in range(counter):\n",
    "\n",
    "        dora_indicator = [-1] #最多翻到5張dora指示\n",
    "        reach = [0,0,0,0]\n",
    "        hand = []\n",
    "        throw = [[] for j in range(4)] #[[]]*4 這樣子寫會爆炸.. 那樣裡面的[]都會視為同一個 list,不是我們想要的\n",
    "        fuuro = [[] for j in range(4)]\n",
    "        menzenchin = [0,0,0,0]\n",
    "\n",
    "        seed_str = mjlog_str_part[i][mjlog_str_part[i].find('seed') + 6:mjlog_str_part[i].find('ten') - 2 ]\n",
    "        seed_list = seed_str.split(',')\n",
    "\n",
    "        seed[0] = int(seed_list[0])\n",
    "        seed[1] = int(seed_list[1])\n",
    "        seed[2] = int(seed_list[2]) #3,4是骰點, 不重要\n",
    "        dora_indicator[0] = int(seed_list[5]) #dora指示\n",
    "        oya = int(mjlog_str_part[i][mjlog_str_part[i].find('oya') + 5:mjlog_str_part[i].find('oya') + 6 ]) # oya要記得換成int\n",
    "\n",
    "        start_playing_tag = mjlog_str_part[i].find('hai3')\n",
    "\n",
    "        #讀手牌\n",
    "        if master_player == 0:\n",
    "            for k in mjlog_str_part[i][mjlog_str_part[i].find('hai0=') + 6:mjlog_str_part[i].find('hai1=') - 2 ].split(','):\n",
    "                hand.append(int(k))\n",
    "        elif master_player == 1:\n",
    "            for k in mjlog_str_part[i][mjlog_str_part[i].find('hai1=') + 6:mjlog_str_part[i].find('hai2=') - 2 ].split(','):\n",
    "                hand.append(int(k))\n",
    "        elif master_player == 2:\n",
    "            for k in mjlog_str_part[i][mjlog_str_part[i].find('hai2=') + 6:mjlog_str_part[i].find('hai3=') - 2 ].split(','):\n",
    "                hand.append(int(k))\n",
    "        elif master_player == 3:\n",
    "            for k in mjlog_str_part[i][mjlog_str_part[i].find('hai3=') + 6:mjlog_str_part[i].find('\\\"', start_playing_tag + 8) ].split(','):\n",
    "                hand.append(int(k))\n",
    "        else:\n",
    "            print('get master_player error')\n",
    "\n",
    "        mj_str_start = mjlog_str_part[i][mjlog_str_part[i].find('/><', start_playing_tag) + 3:]\n",
    "\n",
    "        mj_list_start = mj_str_start.split('/><')\n",
    "        mj_list_start = mj_list_start[:-1] #最後面的 'mjloggm>' 用不到，所以去掉\n",
    "\n",
    "        #開始摸牌與捨牌\n",
    "        current = oya\n",
    "        x_data \n",
    "        \n",
    "        for j in range(len(mj_list_start)):\n",
    "\n",
    "            if mj_list_start[j][0] in ['T','U','V','W']: #摸牌\n",
    "                if mj_list_start[j][0:2] == 'UN': #有人連回來的時候..\n",
    "                    continue\n",
    "                if mj_list_start[j][0] == ['T','U','V','W'][master_player]: #asapin摸的才重要\n",
    "                    hand.append(int(mj_list_start[j][1:]))\n",
    "                    #寫入x_data \n",
    "                    if mj_list_start[j + 1][0] == 'A':##如果自摸就不用打牌了\n",
    "                        sp_counter += 1\n",
    "                        continue\n",
    "\n",
    "                    x_datum = seed + (dora_indicator + [0]* (5 - len(dora_indicator)) ) + reach + (sorted(hand) + [0]* (14 - len(hand)) ) #最多翻到5張dora指示\n",
    "                    for k in [0,1,2,3]:\n",
    "                        temp = throw[k] + [0]*(22 - len(throw[k])) #假設最多會丟到22張牌，然後共四家，缺項補 0\n",
    "                        x_datum += temp\n",
    "                        \n",
    "                    for k in [0,1,2,3]:\n",
    "                        temp = fuuro[k] + [0]*(16 - len(fuuro[k])) #最多會有16張副露(aka 四槓子) \n",
    "                        x_datum += temp\n",
    "                    x_datum += menzenchin    \n",
    "                    x_datum += point\n",
    "\n",
    "                    x_data.append(x_datum)\n",
    "            \n",
    "            elif mj_list_start[j][0:4] == 'DORA': #<DORA hai=\"72\"/> #要翻DORA先判斷，避免和捨牌搞混\n",
    "                dora_indicator.append(int(mj_list_start[j][10:-2]))\n",
    "\n",
    "            elif mj_list_start[j][0] in ['D','E','F','G']: #捨牌\n",
    "                if mj_list_start[j][0] == ['D','E','F','G'][master_player]:\n",
    "                    y_data.append(int(mj_list_start[j][1:]))\n",
    "                    \n",
    "                    hand.remove(int(mj_list_start[j][1:]))\n",
    "                throw[current].append(int(mj_list_start[j][1:]))\n",
    "                current = (current + 1) % 4 #換下一家\n",
    "\n",
    "            elif mj_list_start[j][0:2] == 'RE': #Reach\n",
    "                reach[ int(mj_list_start[j][11:12]) ] += 1\n",
    "            elif mj_list_start[j][0:2] == 'RY': #<RYUUKYOKU ba=\"1,0\" sc=\"240,-15,259,15,142,-15,359,15\" hai1=\"9,14,15,16,18,72,76,80,82,85,88,120,123\" hai3=\"10,17,21,23\"/>\n",
    "                if mj_list_start[j-1][0] == ['T','U','V','W'][master_player]: #特殊流局沒有捨牌\n",
    "                    x_data.pop()\n",
    "                    sp_counter2 += 1\n",
    "            elif mj_list_start[j][0] == 'N': #有人叫牌\n",
    "\n",
    "                current = int(mj_list_start[j][7:8]) #<N who=\"1\" m=\"43114\"/>\n",
    "                #print('current = ', current)\n",
    "                m = int(mj_list_start[j][13:-2])\n",
    "                m_str = '0'*( 16 - len(bin(m)[2:]) ) + bin(m)[2:] #統一長度為16，前面補0\n",
    "\n",
    "                if m_str[13] == '1': #吃\n",
    "                    chi = int(m_str[0:6],2)\n",
    "                    chi_tag = chi % 3 # 0: 吃最小 1: 吃中間 2: 吃最大\n",
    "                    chi_color = int(int(chi/3)/7) # 0萬1筒2條\n",
    "                    chi_type = int(chi/3) % 7 #0:123 1:234 ... 6:789\n",
    "\n",
    "                    fuuro[current].append(chi_color * 9 + chi_type)\n",
    "                    fuuro[current].append(chi_color * 9 + chi_type + 1)\n",
    "                    fuuro[current].append(chi_color * 9 + chi_type + 2)\n",
    "                    \n",
    "                    menzenchin[current] += 1\n",
    "                    if current == master_player:\n",
    "                        temp = [0,1,2]\n",
    "                        temp.remove(chi_tag)\n",
    "                        for k in temp:\n",
    "                            hand.remove( (chi_color * 9 + chi_type + k)*4 + int(m_str[11-2*k:13-2*k],2) ) #0: 11~13 1: 9~11 2: 7~9\n",
    "\n",
    "                        #寫入x_data\n",
    "                        x_datum = seed + (dora_indicator + [0]* (5 - len(dora_indicator)) ) + reach + (sorted(hand) + [0]* (14 - len(hand)) ) #最多翻到5張dora指示\n",
    "                        for k in [0,1,2,3]:\n",
    "                            temp = throw[k] + [0]*(22 - len(throw[k])) #假設最多會丟到22張牌，然後共四家，缺項補 0\n",
    "                            x_datum += temp\n",
    "                        for k in [0,1,2,3]:\n",
    "                            temp = fuuro[k] + [0]*(16 - len(fuuro[k])) #最多會有16張副露(aka 四槓子) \n",
    "                            x_datum += temp\n",
    "                        x_datum += menzenchin    \n",
    "                        x_datum += point\n",
    "\n",
    "                        x_data.append(x_datum)\n",
    "                        \n",
    "                elif m_str[12] == '1': #碰\n",
    "                    pon = int(m_str[0:7],2)\n",
    "                    pon_tag = pon % 3\n",
    "                    pon_which = int(pon/3) #萬筒條~字牌 [0-34]\n",
    "                    temp = [0,1,2,3]\n",
    "                    temp.remove(int(m_str[9:11],2))\n",
    "\n",
    "                    for k in temp:\n",
    "                        fuuro[current].append(pon_which * 4 + k)\n",
    "                    menzenchin[current] += 1\n",
    "                    if current == master_player:\n",
    "\n",
    "                        temp.remove(temp[pon_tag])\n",
    "                        for k in temp:\n",
    "                            hand.remove(pon_which * 4 + k)\n",
    "\n",
    "                        #寫入x_data\n",
    "                        x_datum = seed + (dora_indicator + [0]* (5 - len(dora_indicator)) ) + reach + (sorted(hand) + [0]* (14 - len(hand)) ) #最多翻到5張dora指示\n",
    "                        for k in [0,1,2,3]:\n",
    "                            temp = throw[k] + [0]*(22 - len(throw[k])) #假設最多會丟到22張牌，然後共四家，缺項補 0\n",
    "                            x_datum += temp\n",
    "                        for k in [0,1,2,3]:\n",
    "                            temp = fuuro[k] + [0]*(16 - len(fuuro[k])) #最多會有16張副露(aka 四槓子) \n",
    "                            x_datum += temp\n",
    "                        x_datum += menzenchin    \n",
    "                        x_datum += point\n",
    "\n",
    "                        x_data.append(x_datum)\n",
    "                        \n",
    "                elif m_str[11] == '1': #加槓\n",
    "                    plus_gan = int(m_str[0:7],2)\n",
    "\n",
    "                    fuuro[current].append(int(plus_gan/3)*4 + int(m_str[9:11],2))\n",
    "                    if current == master_player:\n",
    "                        hand.remove(int(plus_gan/3)*4 + int(m_str[9:11],2))\n",
    "                        x_data.pop() #加槓時摸牌沒有捨牌\n",
    "                        sp_counter2 += 1\n",
    "                else: #大明槓或暗槓 也就是 m_str[11:14] == '000'\n",
    "                    gan = int(m_str[0:8],2) ##此處有8位, gan: [0-135]\n",
    "\n",
    "                    if int(m_str) & 3 == 0: #暗槓\n",
    "                        for k in range(4): \n",
    "                            fuuro[current].append(int(gan/4) * 4 + k)\n",
    "                        if current == master_player:\n",
    "                            for k in range(4):\n",
    "                                hand.remove(int(gan/4) * 4 + k)\n",
    "                            x_data.pop() #暗槓時摸牌沒有捨牌\n",
    "                            sp_counter2 += 1\n",
    "                    else: #大明槓  \n",
    "                        for k in range(4): \n",
    "                            fuuro[current].append(int(gan/4) * 4 + k)\n",
    "                        if current == master_player:\n",
    "                            for k in range(4):\n",
    "                                if int(gan/4) * 4 + k in hand:\n",
    "                                    hand.remove(int(gan/4) * 4 + k)\n",
    "                        menzenchin[current] += 1    \n",
    "                        \n",
    "                current = (current + 1) % 4 #換下一家    \n",
    "\n",
    "            elif mj_list_start[j][0] == 'A': #Agari\n",
    "                pass\n",
    "            \n",
    "            elif mj_list_start[j][0] == 'B': #<BYE who=\"3\"/>\n",
    "                pass\n",
    "            else :\n",
    "                print('出錯惹')\n",
    "                print(mj_list_start[j])\n",
    "    if f_counter % 512 == 0:\n",
    "        print('已完成.. ', f_counter/49,'%')\n",
    "    f_counter += 1\n",
    "    if len(x_data) != len(y_data):\n",
    "        break\n",
    "print('done!')"
   ]
  },
  {
   "cell_type": "code",
   "execution_count": 71,
   "metadata": {},
   "outputs": [
    {
     "data": {
      "text/plain": [
       "441097"
      ]
     },
     "execution_count": 71,
     "metadata": {},
     "output_type": "execute_result"
    }
   ],
   "source": [
    "len(x_data)"
   ]
  },
  {
   "cell_type": "code",
   "execution_count": 72,
   "metadata": {},
   "outputs": [
    {
     "data": {
      "text/plain": [
       "441097"
      ]
     },
     "execution_count": 72,
     "metadata": {},
     "output_type": "execute_result"
    }
   ],
   "source": [
    "len(y_data)"
   ]
  },
  {
   "cell_type": "code",
   "execution_count": 73,
   "metadata": {},
   "outputs": [
    {
     "data": {
      "text/plain": [
       "186"
      ]
     },
     "execution_count": 73,
     "metadata": {},
     "output_type": "execute_result"
    }
   ],
   "source": [
    "len(x_data[1235])"
   ]
  },
  {
   "cell_type": "code",
   "execution_count": 21,
   "metadata": {},
   "outputs": [],
   "source": [
    "#原本想輸出data檔的，不過發現很蠢，因為還要再處理資料，而且這樣的輸出檔案太大了多達100+MB..就放棄，直接作惹\n",
    "#f = open('data.txt', 'w', encoding = 'UTF-8')"
   ]
  },
  {
   "cell_type": "code",
   "execution_count": 22,
   "metadata": {},
   "outputs": [],
   "source": [
    "#for i in range(len(x_data)):\n",
    "#    for j in range(len(x_data[i])):\n",
    "#        print(x_data[i][j],file = f, end =' ')\n",
    "#    print(y_data[i],file = f)"
   ]
  },
  {
   "cell_type": "code",
   "execution_count": 23,
   "metadata": {},
   "outputs": [],
   "source": [
    "#f.close()"
   ]
  },
  {
   "cell_type": "code",
   "execution_count": 24,
   "metadata": {},
   "outputs": [
    {
     "name": "stdout",
     "output_type": "stream",
     "text": [
      "env: KERAS_BACKEND=tensorflow\n"
     ]
    }
   ],
   "source": [
    "env KERAS_BACKEND=tensorflow"
   ]
  },
  {
   "cell_type": "code",
   "execution_count": 39,
   "metadata": {},
   "outputs": [],
   "source": [
    "from keras.datasets import mnist\n",
    "from keras.utils import np_utils\n",
    "from keras.models import Sequential, Model\n",
    "from keras.layers import Input, Lambda, concatenate\n",
    "from keras.layers import Dense, Activation, Flatten\n",
    "from keras.layers import Conv2D, MaxPool2D\n",
    "from keras.optimizers import SGD, Adam"
   ]
  },
  {
   "cell_type": "code",
   "execution_count": 74,
   "metadata": {},
   "outputs": [],
   "source": [
    "x_train  = np.array(x_data[0:300000])\n",
    "y_train = np.array(y_data[0:300000])\n",
    "x_test = np.array(x_data[300000:])\n",
    "y_test = np.array(y_data[300000:])\n",
    "\n",
    "y_train = (y_train/4).astype(int)\n",
    "y_test = (y_test/4).astype(int)\n",
    "\n",
    "y_train = np_utils.to_categorical(y_train, 34)\n",
    "y_test = np_utils.to_categorical(y_test, 34)"
   ]
  },
  {
   "cell_type": "code",
   "execution_count": 78,
   "metadata": {},
   "outputs": [
    {
     "name": "stdout",
     "output_type": "stream",
     "text": [
      "_________________________________________________________________\n",
      "Layer (type)                 Output Shape              Param #   \n",
      "=================================================================\n",
      "dense_27 (Dense)             (None, 256)               47872     \n",
      "_________________________________________________________________\n",
      "activation_27 (Activation)   (None, 256)               0         \n",
      "_________________________________________________________________\n",
      "dense_28 (Dense)             (None, 128)               32896     \n",
      "_________________________________________________________________\n",
      "activation_28 (Activation)   (None, 128)               0         \n",
      "_________________________________________________________________\n",
      "dense_29 (Dense)             (None, 56)                7224      \n",
      "_________________________________________________________________\n",
      "activation_29 (Activation)   (None, 56)                0         \n",
      "_________________________________________________________________\n",
      "dense_30 (Dense)             (None, 34)                1938      \n",
      "_________________________________________________________________\n",
      "activation_30 (Activation)   (None, 34)                0         \n",
      "=================================================================\n",
      "Total params: 89,930\n",
      "Trainable params: 89,930\n",
      "Non-trainable params: 0\n",
      "_________________________________________________________________\n"
     ]
    }
   ],
   "source": [
    "model = Sequential()\n",
    "model.add(Dense(256, input_dim=186)) #第一層256個神經原\n",
    "model.add(Activation('relu'))\n",
    "model.add(Dense(128)) #第二層128個神經原\n",
    "model.add(Activation('relu'))\n",
    "model.add(Dense(56)) #第三層72個神經原\n",
    "model.add(Activation('relu'))\n",
    "model.add(Dense(34)) #輸出層\n",
    "model.add(Activation('softmax'))\n",
    "model.compile(loss='binary_crossentropy', optimizer=Adam(),\n",
    "                metrics=['accuracy']) \n",
    "model.summary()"
   ]
  },
  {
   "cell_type": "code",
   "execution_count": 77,
   "metadata": {},
   "outputs": [
    {
     "name": "stdout",
     "output_type": "stream",
     "text": [
      "Train on 300000 samples, validate on 141097 samples\n",
      "Epoch 1/8\n",
      "300000/300000 [==============================] - 31s 104us/step - loss: 0.1301 - acc: 0.9706 - val_loss: 0.1302 - val_acc: 0.9706\n",
      "Epoch 2/8\n",
      "300000/300000 [==============================] - 29s 96us/step - loss: 0.1301 - acc: 0.9706 - val_loss: 0.1302 - val_acc: 0.9706\n",
      "Epoch 3/8\n",
      "300000/300000 [==============================] - 29s 97us/step - loss: 0.1301 - acc: 0.9706 - val_loss: 0.1302 - val_acc: 0.9706\n",
      "Epoch 4/8\n",
      "300000/300000 [==============================] - 28s 93us/step - loss: 0.1301 - acc: 0.9706 - val_loss: 0.1302 - val_acc: 0.9706\n",
      "Epoch 5/8\n",
      "300000/300000 [==============================] - 31s 105us/step - loss: 0.1301 - acc: 0.9706 - val_loss: 0.1302 - val_acc: 0.9706\n",
      "Epoch 6/8\n",
      "300000/300000 [==============================] - 29s 96us/step - loss: 0.1301 - acc: 0.9706 - val_loss: 0.1302 - val_acc: 0.9706\n",
      "Epoch 7/8\n",
      "300000/300000 [==============================] - 27s 92us/step - loss: 0.1301 - acc: 0.9706 - val_loss: 0.1302 - val_acc: 0.9706\n",
      "Epoch 8/8\n",
      "300000/300000 [==============================] - 27s 88us/step - loss: 0.1301 - acc: 0.9706 - val_loss: 0.1302 - val_acc: 0.9706\n"
     ]
    }
   ],
   "source": [
    "model_his = model.fit(x_train, y_train, \n",
    "            batch_size=80, \n",
    "            epochs=8, \n",
    "            verbose=1, \n",
    "            validation_data=(x_test, y_test))"
   ]
  },
  {
   "cell_type": "markdown",
   "execution_count": 40,
   "metadata": {},
   "outputs": [],
   "source": [
    "## 最後成果有達到97%的預測準確率，而且測資也有相應的高準確率\n",
    "### 在這次專案中，我認為花費最多時間處理的就是在處理資料，由於原始檔案是類似html檔，因此在處理的時候不太容易，所幸最後成果不差，希望之後有時間可以繼續完整這個專案，以達到真正的日麻AI\n"
   ]
   
  },
  {
   "cell_type": "code",
   "execution_count": null,
   "metadata": {},
   "outputs": [],
   "source": []
  }
 ],
 "metadata": {
  "kernelspec": {
   "display_name": "Python 3",
   "language": "python",
   "name": "python3"
  },
  "language_info": {
   "codemirror_mode": {
    "name": "ipython",
    "version": 3
   },
   "file_extension": ".py",
   "mimetype": "text/x-python",
   "name": "python",
   "nbconvert_exporter": "python",
   "pygments_lexer": "ipython3",
   "version": "3.6.8"
  }
 },
 "nbformat": 4,
 "nbformat_minor": 2
}
