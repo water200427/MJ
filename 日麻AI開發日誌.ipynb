{
 "cells": [
  {
   "cell_type": "markdown",
   "metadata": {},
   "source": [
    "### 日麻AI開發日誌\n",
    "---\n",
    "# 組員：沈德威、何安\n",
    "# 主題：日麻AI\n",
    "# 介紹：\n",
    "### 研究對象:[天鳳](https://tenhou.net/)(tenhou)規則下的 [日本麻將](https://zh.wikipedia.org/zh-tw/%E6%97%A5%E6%9C%AC%E9%BA%BB%E9%9B%80)中的[四人東南戰](https://zh.wikipedia.org/wiki/%E6%97%A5%E6%9C%AC%E9%BA%BB%E5%B0%86%E8%A7%84%E5%88%99#%E5%8D%8A%E8%8E%8A)\n",
    "# 輸入\n",
    "1.   第幾局，第幾本場 ，場上的立直棒數 \n",
    "2.   四家點數\n",
    "3.   三家的捨牌與副露，以及是否立直\n",
    "4.   自家的手牌，捨牌與副露\n",
    "5.   牌山剩餘張數\n",
    "6.   dora牌是哪些\n",
    "\n",
    "以上總稱為場況\n",
    "# 輸出\n",
    "\n",
    "1.   如果 可以胡牌，判斷是否該榮胡或自摸? (yes/no)\n",
    "2.   如果 聽牌 & 點數 >= 1000 & 牌山剩餘張數 >= 4，判斷是否該立直? (yes/no)\n",
    "3.   要從自家手牌中打出哪一張? (從自家手牌中擇一)\n",
    "而重點是要對當下的場況對判斷，而我們可以\n",
    "  \n",
    "\n",
    "1.   直接deeplearning，輸入場況，輸出1. 2. 3. 的答案\n",
    "\n",
    "2.   用RL\n",
    "\n",
    "\n",
    "我們先做看看1. 看會不會works\n",
    "# data從何來?\n",
    "天鳳上有許多，但我想直接取高手(天鳳位)的資料，像是天鳳位4899戦\tASAPIN，可從[這裡](http://tenhou.net/ranking.html)找到 天鳳位 - DL 下載 ex: [ASAPIN](http://tenhou.net/0/log/mjlog_pf4-20_n1.zip)\n",
    "\n",
    " *如何檢視?\n",
    "參考* [這裡](https://www.ptt.cc/bbs/MJ_JP/M.1503188854.A.EFC.html)\n",
    "# 如何處理data?\n",
    "打開上述文建會像是亂碼，實際上可以參考 http://dq.tieba.com/p/4452478082?pn=1 \n",
    "\n",
    "後面有人提到，這裡https://github.com/NegativeMjark/tenhou-log 有人做好分析了\n",
    "\n",
    "# 實作方法：\n",
    "### 1. 將data處理好，生成x_0, y_t0 = 自家手牌(不含場況), 打出的牌(0~13)(會將牌由萬筒條東南西北發白中依序編碼好)\n",
    "### 2. 將data處理好，生成x_train_1, y_train_1 = 所有場況, 打出的牌(0~13)(會將牌由萬筒條東南西北發白中依序編碼好)\n",
    "### 3.將1. 2.用CNN(萬筒條，分別做), LSTM(optinal), 中間加若干層NN層\n",
    "### 4. 比較1.和2.的差異，驗證acc\n",
    "### 5. 增加叫牌model(吃、碰、槓、胡牌)\n",
    "### (optinal) 6. 自定義loss func 重複3. 4.\n",
    "### (optinal) 7. 將做好的model放在 https://github.com/MahjongRepository/tenhou-python-bot 有人做好的天鳳日麻AI接口上，驗證\n",
    "\n",
    "# 專案排程：\n",
    "### 5/22: 從天鳳網站下載 training 所需資料\n",
    "### 5/28: 資料處理完畢 完成1. 2.\n",
    "### 5/31: 完成3. 4. 目標acc: 0.8\n",
    "### 6/3: 完成5. 並開始train\n",
    "### 6/5~6: 撰寫完成期末報告\n",
    "### 6/7: 上傳期末報告\n",
    "\n",
    "# 目前進度:\n",
    "#專案連結: https://github.com/water200427/MJ\n",
    "### https://nbviewer.jupyter.org/github/water200427/MJ/blob/master/MJ_data_read.ipynb"
   ]
  },
  {
   "cell_type": "code",
   "execution_count": null,
   "metadata": {},
   "outputs": [],
   "source": []
  }
 ],
 "metadata": {
  "kernelspec": {
   "display_name": "Python 3",
   "language": "python",
   "name": "python3"
  },
  "language_info": {
   "codemirror_mode": {
    "name": "ipython",
    "version": 3
   },
   "file_extension": ".py",
   "mimetype": "text/x-python",
   "name": "python",
   "nbconvert_exporter": "python",
   "pygments_lexer": "ipython3",
   "version": "3.6.8"
  }
 },
 "nbformat": 4,
 "nbformat_minor": 2
}
